{
 "cells": [
  {
   "cell_type": "code",
   "execution_count": 1,
   "metadata": {},
   "outputs": [],
   "source": [
    "# Sauce: https://www.sharpsightlabs.com/blog/numpy-axes-explained/\n",
    "\n",
    "import numpy as np"
   ]
  },
  {
   "cell_type": "markdown",
   "metadata": {},
   "source": [
    "# Basically\n",
    "\n",
    "axis number starts from 0.\n",
    "In a 2D array, axis 0 runs down vertically,\n",
    "while axis 1 runs right horizontally."
   ]
  },
  {
   "cell_type": "code",
   "execution_count": 7,
   "metadata": {},
   "outputs": [
    {
     "name": "stdout",
     "output_type": "stream",
     "text": [
      "before reshape:\n",
      "[0 1 2 3 4 5]\n",
      "after reshape:\n",
      "[[0 1 2]\n",
      " [3 4 5]]\n"
     ]
    }
   ],
   "source": [
    "# Reshape\n",
    "\n",
    "print('before reshape:')\n",
    "print(np.arange(0, 6))\n",
    "\n",
    "np_array_2d = np.arange(0, 6).reshape([2,3])\n",
    "print('after reshape:')\n",
    "print(np_array_2d)"
   ]
  },
  {
   "cell_type": "markdown",
   "metadata": {},
   "source": [
    "# Numpy sum()"
   ]
  },
  {
   "cell_type": "code",
   "execution_count": 8,
   "metadata": {},
   "outputs": [
    {
     "data": {
      "text/plain": [
       "array([3, 5, 7])"
      ]
     },
     "execution_count": 8,
     "metadata": {},
     "output_type": "execute_result"
    }
   ],
   "source": [
    "# sum along axis 0\n",
    "np.sum(np_array_2d, axis=0)\n",
    "\n",
    "# sum along axis 1\n",
    "np.sum(np_array_2d, axis=1)"
   ]
  },
  {
   "cell_type": "markdown",
   "metadata": {},
   "source": [
    "# Numpy concatenate()"
   ]
  },
  {
   "cell_type": "code",
   "execution_count": 12,
   "metadata": {},
   "outputs": [
    {
     "data": {
      "text/plain": [
       "array([[1, 1, 1],\n",
       "       [1, 1, 1],\n",
       "       [9, 9, 9],\n",
       "       [9, 9, 9]])"
      ]
     },
     "execution_count": 12,
     "metadata": {},
     "output_type": "execute_result"
    }
   ],
   "source": [
    "np_array_1s = np.array([\n",
    "  [1,1,1],\n",
    "  [1,1,1]\n",
    "])\n",
    "np_array_9s = np.array([\n",
    "  [9,9,9],\n",
    "  [9,9,9]\n",
    "])\n",
    "\n",
    "np.concatenate([np_array_1s, np_array_9s], axis=0)"
   ]
  },
  {
   "cell_type": "code",
   "execution_count": 13,
   "metadata": {},
   "outputs": [
    {
     "data": {
      "text/plain": [
       "array([[1, 1, 1, 9, 9, 9],\n",
       "       [1, 1, 1, 9, 9, 9]])"
      ]
     },
     "execution_count": 13,
     "metadata": {},
     "output_type": "execute_result"
    }
   ],
   "source": [
    "np.concatenate([np_array_1s, np_array_9s], axis=1)"
   ]
  },
  {
   "cell_type": "markdown",
   "metadata": {},
   "source": [
    "# Remember\n",
    "\n",
    "## axis for all kinds of arrays start from 0"
   ]
  },
  {
   "cell_type": "code",
   "execution_count": 14,
   "metadata": {},
   "outputs": [
    {
     "data": {
      "text/plain": [
       "array([1, 1, 1])"
      ]
     },
     "execution_count": 14,
     "metadata": {},
     "output_type": "execute_result"
    }
   ],
   "source": [
    "np.array([1,1,1]) # axis = 0\n",
    "\n",
    "# In fact it is better to read it as a vector:\n",
    "np.array([\n",
    "  1,\n",
    "  1,\n",
    "  1,\n",
    "])"
   ]
  },
  {
   "cell_type": "code",
   "execution_count": 19,
   "metadata": {},
   "outputs": [
    {
     "name": "stdout",
     "output_type": "stream",
     "text": [
      "[1 1 1]\n",
      "[9 9 9]\n",
      "np.concatentate axis=0, result:\n",
      "[1 1 1 9 9 9]\n",
      "isn't it confusing? No, remember to treat the 1d arrays as VECTORS\n"
     ]
    }
   ],
   "source": [
    "# concatenating 1d array\n",
    "np_array_1s_1d = np.array([1,1,1])\n",
    "np_array_9s_1d = np.array([9,9,9])\n",
    "\n",
    "print(np_array_1s_1d)\n",
    "print(np_array_9s_1d)\n",
    "\n",
    "print('np.concatentate axis=0, result:')\n",
    "print(np.concatenate([np_array_1s_1d, np_array_9s_1d], axis=0))\n",
    "print(\"isn't it confusing? No, remember to treat the 1d arrays as VECTORS\")"
   ]
  },
  {
   "cell_type": "markdown",
   "metadata": {},
   "source": [
    "# np.newaxis\n",
    "\n",
    "## Promote xD array to (x+1)D array"
   ]
  },
  {
   "cell_type": "code",
   "execution_count": 28,
   "metadata": {},
   "outputs": [
    {
     "name": "stdout",
     "output_type": "stream",
     "text": [
      "[1 2 3 4]\n",
      "shape of array:\n",
      "(4,)\n",
      "\n",
      "new axis at 0:\n",
      "[[1 2 3 4]]\n",
      "new shape:\n",
      "(1, 4)\n",
      "\n",
      "new axis at 1:\n",
      "[[1]\n",
      " [2]\n",
      " [3]\n",
      " [4]]\n",
      "new shape:\n",
      "(4, 1)\n"
     ]
    }
   ],
   "source": [
    "np_1d = np.array([1,2,3,4])\n",
    "print(np_1d)\n",
    "\n",
    "print('shape of array:')\n",
    "print(np_1d.shape)\n",
    "\n",
    "# new axis\n",
    "np_new_axis_at_0 = np_1d[np.newaxis, :]\n",
    "np_new_axis_at_1 = np_1d[:, np.newaxis]\n",
    "\n",
    "print('\\nnew axis at 0:')\n",
    "print(np_new_axis_at_0)\n",
    "print('new shape:')\n",
    "print(np_new_axis_at_0.shape)\n",
    "\n",
    "print('\\nnew axis at 1:')\n",
    "print(np_new_axis_at_1)\n",
    "print('new shape:')\n",
    "print(np_new_axis_at_1.shape)\n"
   ]
  }
 ],
 "metadata": {
  "interpreter": {
   "hash": "aee8b7b246df8f9039afb4144a1f6fd8d2ca17a180786b69acc140d282b71a49"
  },
  "kernelspec": {
   "display_name": "Python 3.9.0 64-bit",
   "name": "python3"
  },
  "language_info": {
   "codemirror_mode": {
    "name": "ipython",
    "version": 3
   },
   "file_extension": ".py",
   "mimetype": "text/x-python",
   "name": "python",
   "nbconvert_exporter": "python",
   "pygments_lexer": "ipython3",
   "version": "3.9.0"
  },
  "orig_nbformat": 4
 },
 "nbformat": 4,
 "nbformat_minor": 2
}
